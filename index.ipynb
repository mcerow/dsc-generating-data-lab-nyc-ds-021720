{
 "cells": [
  {
   "cell_type": "markdown",
   "metadata": {},
   "source": [
    "# Generating Data - Lab"
   ]
  },
  {
   "cell_type": "markdown",
   "metadata": {},
   "source": [
    "## Introduction\n",
    "\n",
    "In this lab, we shall practice some of the data generation techniques that we saw in the previous lesson in order to generate datasets for regression and classification purposes. We will run a couple of simple simulations to help us generate different datasets by controlling noise and variance parameters in the data generation process. We will also look at the statistical indicators and visual output to see how these parameters affect the accuracy of an algorithm. \n",
    "\n",
    "## Objectives\n",
    "In this lab you will:\n",
    "\n",
    "- Generate datasets for classification problems\n",
    "- Generate datasets for regression problems"
   ]
  },
  {
   "cell_type": "markdown",
   "metadata": {},
   "source": [
    "## Generate data for classfication\n",
    "\n",
    "Use `make_blobs()` to create a binary classification dataset with 100 samples, 2 features, and 2 centers (where each center corresponds to a different class label). Set `random_state = 42` for reproducibility.\n",
    "\n",
    "_Hint: Here's a link to the documentation for_ [`make_blobs()`](https://scikit-learn.org/stable/modules/generated/sklearn.datasets.make_blobs.html)."
   ]
  },
  {
   "cell_type": "code",
   "execution_count": 1,
   "metadata": {},
   "outputs": [],
   "source": [
    "# Your code here \n",
    "\n",
    "from sklearn.datasets import make_blobs\n",
    "\n",
    "X, y = make_blobs(n_samples = 100, centers = 2, n_features = 2, random_state = 42)"
   ]
  },
  {
   "cell_type": "markdown",
   "metadata": {},
   "source": [
    "Place the data in a `pandas` DataFrame called `df`, and inspect the first five rows of the data. \n",
    "\n",
    "_Hint: Your dataframe should have three columns in total, two for the features and one for the class label._ "
   ]
  },
  {
   "cell_type": "code",
   "execution_count": 2,
   "metadata": {},
   "outputs": [
    {
     "data": {
      "text/html": [
       "<div>\n",
       "<style scoped>\n",
       "    .dataframe tbody tr th:only-of-type {\n",
       "        vertical-align: middle;\n",
       "    }\n",
       "\n",
       "    .dataframe tbody tr th {\n",
       "        vertical-align: top;\n",
       "    }\n",
       "\n",
       "    .dataframe thead th {\n",
       "        text-align: right;\n",
       "    }\n",
       "</style>\n",
       "<table border=\"1\" class=\"dataframe\">\n",
       "  <thead>\n",
       "    <tr style=\"text-align: right;\">\n",
       "      <th></th>\n",
       "      <th>x</th>\n",
       "      <th>y</th>\n",
       "      <th>label</th>\n",
       "    </tr>\n",
       "  </thead>\n",
       "  <tbody>\n",
       "    <tr>\n",
       "      <td>0</td>\n",
       "      <td>-2.988372</td>\n",
       "      <td>8.828627</td>\n",
       "      <td>0</td>\n",
       "    </tr>\n",
       "    <tr>\n",
       "      <td>1</td>\n",
       "      <td>5.722930</td>\n",
       "      <td>3.026972</td>\n",
       "      <td>1</td>\n",
       "    </tr>\n",
       "    <tr>\n",
       "      <td>2</td>\n",
       "      <td>-3.053580</td>\n",
       "      <td>9.125209</td>\n",
       "      <td>0</td>\n",
       "    </tr>\n",
       "    <tr>\n",
       "      <td>3</td>\n",
       "      <td>5.461939</td>\n",
       "      <td>3.869963</td>\n",
       "      <td>1</td>\n",
       "    </tr>\n",
       "    <tr>\n",
       "      <td>4</td>\n",
       "      <td>4.867339</td>\n",
       "      <td>3.280312</td>\n",
       "      <td>1</td>\n",
       "    </tr>\n",
       "  </tbody>\n",
       "</table>\n",
       "</div>"
      ],
      "text/plain": [
       "          x         y  label\n",
       "0 -2.988372  8.828627      0\n",
       "1  5.722930  3.026972      1\n",
       "2 -3.053580  9.125209      0\n",
       "3  5.461939  3.869963      1\n",
       "4  4.867339  3.280312      1"
      ]
     },
     "execution_count": 2,
     "metadata": {},
     "output_type": "execute_result"
    }
   ],
   "source": [
    "# Your code here \n",
    "import pandas as pd\n",
    "\n",
    "df = pd.DataFrame(dict(x=X[:, 0], y=X[:, 1], label=y))\n",
    "df.head()"
   ]
  },
  {
   "cell_type": "markdown",
   "metadata": {},
   "source": [
    "Create a scatter plot of the data, while color-coding the different classes.\n",
    "\n",
    "_Hint: You may find this dictionary mapping class labels to colors useful: \n",
    "`colors = {0: 'red', 1: 'blue'}`_"
   ]
  },
  {
   "cell_type": "code",
   "execution_count": 3,
   "metadata": {},
   "outputs": [
    {
     "data": {
      "image/png": "[encoded data removed]",
      "text/plain": [
       "<Figure size 432x288 with 1 Axes>"
      ]
     },
     "metadata": {
      "needs_background": "light"
     },
     "output_type": "display_data"
    }
   ],
   "source": [
    "# Your code here \n",
    "\n",
    "import matplotlib.pyplot as plt\n",
    "%matplotlib inline\n",
    "\n",
    "colors = {0: 'red', 1: 'blue'}\n",
    "\n",
    "fig, ax = plt.subplots()\n",
    "grouped = df.groupby('label')\n",
    "\n",
    "for key, group in grouped:\n",
    "    group.plot(ax=ax,kind='scatter', x ='x', y='y', label=key, color=colors[key])"
   ]
  },
  {
   "cell_type": "markdown",
   "metadata": {},
   "source": [
    "Repeat this exercise two times by setting `cluster_std = 0.5` and `cluster_std = 2`. \n",
    "\n",
    "Keep all other parameters passed to `make_blobs()` equal. \n",
    "\n",
    "That is:\n",
    "* Create a classification dataset with 100 samples, 2 features, and 2 centers using `make_blobs()` \n",
    "    * Set `random_state = 42` for reproducibility, and pass the appropriate value for `cluster_std`  \n",
    "* Place the data in a `pandas` DataFrame called `df`  \n",
    "* Plot the values on a scatter plot, while color-coding the different classes \n",
    "\n",
    "What is the effect of changing `cluster_std` based on your plots? "
   ]
  },
  {
   "cell_type": "code",
   "execution_count": 5,
   "metadata": {},
   "outputs": [
    {
     "data": {
      "image/png": "[encoded data removed]",
      "text/plain": [
       "<Figure size 432x288 with 1 Axes>"
      ]
     },
     "metadata": {
      "needs_background": "light"
     },
     "output_type": "display_data"
    }
   ],
   "source": [
    "# Your code here: \n",
    "# cluster_std = 0.5\n",
    "\n",
    "X, y = make_blobs(n_samples=200, centers=2, n_features=2, cluster_std=0.5, random_state=42)\n",
    "df = pd.DataFrame(dict(x=X[:, 0],  y=X[:, 1], label=y))\n",
    "colors = {0: 'red', 1: 'blue'}\n",
    "\n",
    "fig, ax = plt.subplots()\n",
    "grouped = df.groupby('label')\n",
    "\n",
    "for key, group in grouped:\n",
    "    group.plot(ax=ax,kind='scatter', x ='x', y='y', label=key, color=colors[key])"
   ]
  },
  {
   "cell_type": "code",
   "execution_count": 6,
   "metadata": {},
   "outputs": [
    {
     "data": {
      "image/png": "[encoded data removed]",
      "text/plain": [
       "<Figure size 432x288 with 1 Axes>"
      ]
     },
     "metadata": {
      "needs_background": "light"
     },
     "output_type": "display_data"
    }
   ],
   "source": [
    "# Your code here: \n",
    "# clusted_std = 2\n",
    "\n",
    "X, y = make_blobs(n_samples=200, centers=2, n_features=2, cluster_std=2.0, random_state=42)\n",
    "df = pd.DataFrame(dict(x=X[:, 0],  y=X[:, 1], label=y))\n",
    "colors = {0: 'red', 1: 'blue'}\n",
    "\n",
    "fig, ax = plt.subplots()\n",
    "grouped = df.groupby('label')\n",
    "\n",
    "for key, group in grouped:\n",
    "    group.plot(ax=ax,kind='scatter', x ='x', y='y', label=key, color=colors[key])"
   ]
  },
  {
   "cell_type": "code",
   "execution_count": 7,
   "metadata": {},
   "outputs": [
    {
     "data": {
      "text/plain": [
       "'\\nSetting the cluster std determines how spread out the random data points are.\\n'"
      ]
     },
     "execution_count": 7,
     "metadata": {},
     "output_type": "execute_result"
    }
   ],
   "source": [
    "# Your comments here\n",
    "\n",
    "\"\"\"\n",
    "Setting the cluster std determines how spread out the random data points are.\n",
    "\"\"\""
   ]
  },
  {
   "cell_type": "markdown",
   "metadata": {},
   "source": [
    "## Generate data for regression\n",
    "\n",
    "Create a function `reg_simulation()` to run a regression simulation creating a number of datasets with the `make_regression()` data generation function. Perform the following tasks:\n",
    "\n",
    "* Create `reg_simulation()` with `n` (noise) and `random_state` as input parameters\n",
    "    * Make a regression dataset (X, y) with 100 samples using a given noise value and random state\n",
    "    * Plot the data as a scatter plot \n",
    "    * Calculate and plot a regression line on the plot and calculate $R^2$ (you can do this in `statsmodels` or `sklearn`)\n",
    "    * Label the plot with the noise value and the calculated $R^2$ \n",
    "    \n",
    "* Pass a fixed random state and values from `[10, 25, 40, 50, 100, 200]` as noise values iteratively to the function above \n",
    "* Inspect and comment on the output "
   ]
  },
  {
   "cell_type": "code",
   "execution_count": null,
   "metadata": {},
   "outputs": [],
   "source": [
    "# Import necessary libraries\n",
    "\n",
    "\n",
    "def reg_simulation(n, random_state):\n",
    "    \n",
    "    # Generate X and y\n",
    "\n",
    "    # Use X,y to draw a scatter plot\n",
    "    # Fit a linear regression model to X , y and calculate r2\n",
    "    # label and plot the regression line \n",
    "    pass\n",
    "\n",
    "\n",
    "random_state = random_state = np.random.RandomState(42)\n",
    "\n",
    "for n in [10, 25, 40, 50, 100, 200]:\n",
    "    reg_simulation(n, random_state)"
   ]
  },
  {
   "cell_type": "code",
   "execution_count": null,
   "metadata": {},
   "outputs": [],
   "source": [
    "# Your comments here"
   ]
  },
  {
   "cell_type": "markdown",
   "metadata": {},
   "source": [
    "## Summary \n",
    "\n",
    "In this lesson, we learned how to generate random datasets for classification and regression problems. We ran simulations for this and fitted simple models to view the effect of random data parameters including noise level and standard deviation on the performance of parameters, visually as well as objectively. These skills will come in handy while testing model performance and robustness in the future. "
   ]
  }
 ],
 "metadata": {
  "kernelspec": {
   "display_name": "Python 3",
   "language": "python",
   "name": "python3"
  },
  "language_info": {
   "codemirror_mode": {
    "name": "ipython",
    "version": 3
   },
   "file_extension": ".py",
   "mimetype": "text/x-python",
   "name": "python",
   "nbconvert_exporter": "python",
   "pygments_lexer": "ipython3",
   "version": "3.6.9"
  },
  "toc": {
   "base_numbering": 1,
   "nav_menu": {},
   "number_sections": true,
   "sideBar": true,
   "skip_h1_title": false,
   "title_cell": "Table of Contents",
   "title_sidebar": "Contents",
   "toc_cell": false,
   "toc_position": {},
   "toc_section_display": true,
   "toc_window_display": false
  }
 },
 "nbformat": 4,
 "nbformat_minor": 2
}
